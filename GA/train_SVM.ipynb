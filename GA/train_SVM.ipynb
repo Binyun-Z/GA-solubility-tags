{
 "cells": [
  {
   "cell_type": "code",
   "execution_count": 1,
   "metadata": {},
   "outputs": [],
   "source": [
    "import pandas as pd"
   ]
  },
  {
   "cell_type": "code",
   "execution_count": 2,
   "metadata": {},
   "outputs": [],
   "source": [
    "df_f = pd.read_csv(\"AAC.csv\",header=None)\n",
    "df_l = pd.read_csv(\"solubility2.csv\")"
   ]
  },
  {
   "cell_type": "code",
   "execution_count": 3,
   "metadata": {},
   "outputs": [
    {
     "data": {
      "text/html": [
       "<div>\n",
       "<style scoped>\n",
       "    .dataframe tbody tr th:only-of-type {\n",
       "        vertical-align: middle;\n",
       "    }\n",
       "\n",
       "    .dataframe tbody tr th {\n",
       "        vertical-align: top;\n",
       "    }\n",
       "\n",
       "    .dataframe thead th {\n",
       "        text-align: right;\n",
       "    }\n",
       "</style>\n",
       "<table border=\"1\" class=\"dataframe\">\n",
       "  <thead>\n",
       "    <tr style=\"text-align: right;\">\n",
       "      <th></th>\n",
       "      <th>0</th>\n",
       "      <th>1</th>\n",
       "      <th>2</th>\n",
       "      <th>3</th>\n",
       "      <th>4</th>\n",
       "      <th>5</th>\n",
       "      <th>6</th>\n",
       "      <th>7</th>\n",
       "      <th>8</th>\n",
       "      <th>9</th>\n",
       "      <th>...</th>\n",
       "      <th>11</th>\n",
       "      <th>12</th>\n",
       "      <th>13</th>\n",
       "      <th>14</th>\n",
       "      <th>15</th>\n",
       "      <th>16</th>\n",
       "      <th>17</th>\n",
       "      <th>18</th>\n",
       "      <th>19</th>\n",
       "      <th>20</th>\n",
       "    </tr>\n",
       "  </thead>\n",
       "  <tbody>\n",
       "    <tr>\n",
       "      <th>0</th>\n",
       "      <td>aaeX</td>\n",
       "      <td>0.044776</td>\n",
       "      <td>0.029851</td>\n",
       "      <td>0.014925</td>\n",
       "      <td>0.014925</td>\n",
       "      <td>0.149254</td>\n",
       "      <td>0.029851</td>\n",
       "      <td>0.014925</td>\n",
       "      <td>0.074627</td>\n",
       "      <td>0.000000</td>\n",
       "      <td>...</td>\n",
       "      <td>0.014925</td>\n",
       "      <td>0.014925</td>\n",
       "      <td>0.074627</td>\n",
       "      <td>0.000000</td>\n",
       "      <td>0.044776</td>\n",
       "      <td>0.059701</td>\n",
       "      <td>0.029851</td>\n",
       "      <td>0.119403</td>\n",
       "      <td>0.029851</td>\n",
       "      <td>0.044776</td>\n",
       "    </tr>\n",
       "    <tr>\n",
       "      <th>1</th>\n",
       "      <td>aas</td>\n",
       "      <td>0.076495</td>\n",
       "      <td>0.005563</td>\n",
       "      <td>0.041725</td>\n",
       "      <td>0.062587</td>\n",
       "      <td>0.050070</td>\n",
       "      <td>0.076495</td>\n",
       "      <td>0.022253</td>\n",
       "      <td>0.054242</td>\n",
       "      <td>0.052851</td>\n",
       "      <td>...</td>\n",
       "      <td>0.031989</td>\n",
       "      <td>0.018081</td>\n",
       "      <td>0.057024</td>\n",
       "      <td>0.037552</td>\n",
       "      <td>0.070932</td>\n",
       "      <td>0.045897</td>\n",
       "      <td>0.061196</td>\n",
       "      <td>0.084840</td>\n",
       "      <td>0.011127</td>\n",
       "      <td>0.030598</td>\n",
       "    </tr>\n",
       "    <tr>\n",
       "      <th>2</th>\n",
       "      <td>aat</td>\n",
       "      <td>0.064103</td>\n",
       "      <td>0.025641</td>\n",
       "      <td>0.034188</td>\n",
       "      <td>0.072650</td>\n",
       "      <td>0.047009</td>\n",
       "      <td>0.089744</td>\n",
       "      <td>0.038462</td>\n",
       "      <td>0.042735</td>\n",
       "      <td>0.017094</td>\n",
       "      <td>...</td>\n",
       "      <td>0.034188</td>\n",
       "      <td>0.034188</td>\n",
       "      <td>0.064103</td>\n",
       "      <td>0.029915</td>\n",
       "      <td>0.085470</td>\n",
       "      <td>0.072650</td>\n",
       "      <td>0.025641</td>\n",
       "      <td>0.051282</td>\n",
       "      <td>0.029915</td>\n",
       "      <td>0.029915</td>\n",
       "    </tr>\n",
       "    <tr>\n",
       "      <th>3</th>\n",
       "      <td>abgA</td>\n",
       "      <td>0.151376</td>\n",
       "      <td>0.006881</td>\n",
       "      <td>0.048165</td>\n",
       "      <td>0.059633</td>\n",
       "      <td>0.045872</td>\n",
       "      <td>0.098624</td>\n",
       "      <td>0.043578</td>\n",
       "      <td>0.027523</td>\n",
       "      <td>0.016055</td>\n",
       "      <td>...</td>\n",
       "      <td>0.029817</td>\n",
       "      <td>0.027523</td>\n",
       "      <td>0.032110</td>\n",
       "      <td>0.059633</td>\n",
       "      <td>0.052752</td>\n",
       "      <td>0.052752</td>\n",
       "      <td>0.059633</td>\n",
       "      <td>0.084862</td>\n",
       "      <td>0.013761</td>\n",
       "      <td>0.016055</td>\n",
       "    </tr>\n",
       "    <tr>\n",
       "      <th>4</th>\n",
       "      <td>abgB</td>\n",
       "      <td>0.130977</td>\n",
       "      <td>0.018711</td>\n",
       "      <td>0.041580</td>\n",
       "      <td>0.062370</td>\n",
       "      <td>0.043659</td>\n",
       "      <td>0.076923</td>\n",
       "      <td>0.033264</td>\n",
       "      <td>0.045738</td>\n",
       "      <td>0.031185</td>\n",
       "      <td>...</td>\n",
       "      <td>0.018711</td>\n",
       "      <td>0.049896</td>\n",
       "      <td>0.043659</td>\n",
       "      <td>0.054054</td>\n",
       "      <td>0.039501</td>\n",
       "      <td>0.051975</td>\n",
       "      <td>0.079002</td>\n",
       "      <td>0.060291</td>\n",
       "      <td>0.016632</td>\n",
       "      <td>0.024948</td>\n",
       "    </tr>\n",
       "    <tr>\n",
       "      <th>...</th>\n",
       "      <td>...</td>\n",
       "      <td>...</td>\n",
       "      <td>...</td>\n",
       "      <td>...</td>\n",
       "      <td>...</td>\n",
       "      <td>...</td>\n",
       "      <td>...</td>\n",
       "      <td>...</td>\n",
       "      <td>...</td>\n",
       "      <td>...</td>\n",
       "      <td>...</td>\n",
       "      <td>...</td>\n",
       "      <td>...</td>\n",
       "      <td>...</td>\n",
       "      <td>...</td>\n",
       "      <td>...</td>\n",
       "      <td>...</td>\n",
       "      <td>...</td>\n",
       "      <td>...</td>\n",
       "      <td>...</td>\n",
       "      <td>...</td>\n",
       "    </tr>\n",
       "    <tr>\n",
       "      <th>3143</th>\n",
       "      <td>ytfG</td>\n",
       "      <td>0.171329</td>\n",
       "      <td>0.000000</td>\n",
       "      <td>0.052448</td>\n",
       "      <td>0.052448</td>\n",
       "      <td>0.017483</td>\n",
       "      <td>0.087413</td>\n",
       "      <td>0.027972</td>\n",
       "      <td>0.052448</td>\n",
       "      <td>0.048951</td>\n",
       "      <td>...</td>\n",
       "      <td>0.013986</td>\n",
       "      <td>0.031469</td>\n",
       "      <td>0.024476</td>\n",
       "      <td>0.041958</td>\n",
       "      <td>0.024476</td>\n",
       "      <td>0.080420</td>\n",
       "      <td>0.062937</td>\n",
       "      <td>0.062937</td>\n",
       "      <td>0.006993</td>\n",
       "      <td>0.031469</td>\n",
       "    </tr>\n",
       "    <tr>\n",
       "      <th>3144</th>\n",
       "      <td>ytfN</td>\n",
       "      <td>0.066720</td>\n",
       "      <td>0.003177</td>\n",
       "      <td>0.065925</td>\n",
       "      <td>0.054805</td>\n",
       "      <td>0.023828</td>\n",
       "      <td>0.090548</td>\n",
       "      <td>0.007149</td>\n",
       "      <td>0.050040</td>\n",
       "      <td>0.052423</td>\n",
       "      <td>...</td>\n",
       "      <td>0.020651</td>\n",
       "      <td>0.057983</td>\n",
       "      <td>0.051628</td>\n",
       "      <td>0.055600</td>\n",
       "      <td>0.040508</td>\n",
       "      <td>0.055600</td>\n",
       "      <td>0.064337</td>\n",
       "      <td>0.087371</td>\n",
       "      <td>0.016680</td>\n",
       "      <td>0.013503</td>\n",
       "    </tr>\n",
       "    <tr>\n",
       "      <th>3145</th>\n",
       "      <td>yzcX</td>\n",
       "      <td>0.047170</td>\n",
       "      <td>0.018868</td>\n",
       "      <td>0.113208</td>\n",
       "      <td>0.094340</td>\n",
       "      <td>0.047170</td>\n",
       "      <td>0.084906</td>\n",
       "      <td>0.028302</td>\n",
       "      <td>0.075472</td>\n",
       "      <td>0.028302</td>\n",
       "      <td>...</td>\n",
       "      <td>0.009434</td>\n",
       "      <td>0.037736</td>\n",
       "      <td>0.009434</td>\n",
       "      <td>0.066038</td>\n",
       "      <td>0.047170</td>\n",
       "      <td>0.047170</td>\n",
       "      <td>0.066038</td>\n",
       "      <td>0.028302</td>\n",
       "      <td>0.047170</td>\n",
       "      <td>0.009434</td>\n",
       "    </tr>\n",
       "    <tr>\n",
       "      <th>3146</th>\n",
       "      <td>yzfA</td>\n",
       "      <td>0.061947</td>\n",
       "      <td>0.000000</td>\n",
       "      <td>0.070796</td>\n",
       "      <td>0.035398</td>\n",
       "      <td>0.017699</td>\n",
       "      <td>0.115044</td>\n",
       "      <td>0.035398</td>\n",
       "      <td>0.044248</td>\n",
       "      <td>0.026549</td>\n",
       "      <td>...</td>\n",
       "      <td>0.026549</td>\n",
       "      <td>0.044248</td>\n",
       "      <td>0.035398</td>\n",
       "      <td>0.053097</td>\n",
       "      <td>0.070796</td>\n",
       "      <td>0.053097</td>\n",
       "      <td>0.044248</td>\n",
       "      <td>0.053097</td>\n",
       "      <td>0.026549</td>\n",
       "      <td>0.079646</td>\n",
       "    </tr>\n",
       "    <tr>\n",
       "      <th>3147</th>\n",
       "      <td>yzgL</td>\n",
       "      <td>0.075269</td>\n",
       "      <td>0.021505</td>\n",
       "      <td>0.010753</td>\n",
       "      <td>0.021505</td>\n",
       "      <td>0.086022</td>\n",
       "      <td>0.107527</td>\n",
       "      <td>0.000000</td>\n",
       "      <td>0.118280</td>\n",
       "      <td>0.021505</td>\n",
       "      <td>...</td>\n",
       "      <td>0.053763</td>\n",
       "      <td>0.032258</td>\n",
       "      <td>0.043011</td>\n",
       "      <td>0.021505</td>\n",
       "      <td>0.021505</td>\n",
       "      <td>0.021505</td>\n",
       "      <td>0.043011</td>\n",
       "      <td>0.107527</td>\n",
       "      <td>0.010753</td>\n",
       "      <td>0.032258</td>\n",
       "    </tr>\n",
       "  </tbody>\n",
       "</table>\n",
       "<p>3148 rows × 21 columns</p>\n",
       "</div>"
      ],
      "text/plain": [
       "        0         1         2         3         4         5         6   \\\n",
       "0     aaeX  0.044776  0.029851  0.014925  0.014925  0.149254  0.029851   \n",
       "1      aas  0.076495  0.005563  0.041725  0.062587  0.050070  0.076495   \n",
       "2      aat  0.064103  0.025641  0.034188  0.072650  0.047009  0.089744   \n",
       "3     abgA  0.151376  0.006881  0.048165  0.059633  0.045872  0.098624   \n",
       "4     abgB  0.130977  0.018711  0.041580  0.062370  0.043659  0.076923   \n",
       "...    ...       ...       ...       ...       ...       ...       ...   \n",
       "3143  ytfG  0.171329  0.000000  0.052448  0.052448  0.017483  0.087413   \n",
       "3144  ytfN  0.066720  0.003177  0.065925  0.054805  0.023828  0.090548   \n",
       "3145  yzcX  0.047170  0.018868  0.113208  0.094340  0.047170  0.084906   \n",
       "3146  yzfA  0.061947  0.000000  0.070796  0.035398  0.017699  0.115044   \n",
       "3147  yzgL  0.075269  0.021505  0.010753  0.021505  0.086022  0.107527   \n",
       "\n",
       "            7         8         9   ...        11        12        13  \\\n",
       "0     0.014925  0.074627  0.000000  ...  0.014925  0.014925  0.074627   \n",
       "1     0.022253  0.054242  0.052851  ...  0.031989  0.018081  0.057024   \n",
       "2     0.038462  0.042735  0.017094  ...  0.034188  0.034188  0.064103   \n",
       "3     0.043578  0.027523  0.016055  ...  0.029817  0.027523  0.032110   \n",
       "4     0.033264  0.045738  0.031185  ...  0.018711  0.049896  0.043659   \n",
       "...        ...       ...       ...  ...       ...       ...       ...   \n",
       "3143  0.027972  0.052448  0.048951  ...  0.013986  0.031469  0.024476   \n",
       "3144  0.007149  0.050040  0.052423  ...  0.020651  0.057983  0.051628   \n",
       "3145  0.028302  0.075472  0.028302  ...  0.009434  0.037736  0.009434   \n",
       "3146  0.035398  0.044248  0.026549  ...  0.026549  0.044248  0.035398   \n",
       "3147  0.000000  0.118280  0.021505  ...  0.053763  0.032258  0.043011   \n",
       "\n",
       "            14        15        16        17        18        19        20  \n",
       "0     0.000000  0.044776  0.059701  0.029851  0.119403  0.029851  0.044776  \n",
       "1     0.037552  0.070932  0.045897  0.061196  0.084840  0.011127  0.030598  \n",
       "2     0.029915  0.085470  0.072650  0.025641  0.051282  0.029915  0.029915  \n",
       "3     0.059633  0.052752  0.052752  0.059633  0.084862  0.013761  0.016055  \n",
       "4     0.054054  0.039501  0.051975  0.079002  0.060291  0.016632  0.024948  \n",
       "...        ...       ...       ...       ...       ...       ...       ...  \n",
       "3143  0.041958  0.024476  0.080420  0.062937  0.062937  0.006993  0.031469  \n",
       "3144  0.055600  0.040508  0.055600  0.064337  0.087371  0.016680  0.013503  \n",
       "3145  0.066038  0.047170  0.047170  0.066038  0.028302  0.047170  0.009434  \n",
       "3146  0.053097  0.070796  0.053097  0.044248  0.053097  0.026549  0.079646  \n",
       "3147  0.021505  0.021505  0.021505  0.043011  0.107527  0.010753  0.032258  \n",
       "\n",
       "[3148 rows x 21 columns]"
      ]
     },
     "execution_count": 3,
     "metadata": {},
     "output_type": "execute_result"
    }
   ],
   "source": [
    "df_f"
   ]
  },
  {
   "cell_type": "code",
   "execution_count": 4,
   "metadata": {},
   "outputs": [
    {
     "data": {
      "text/plain": [
       "array([34,  7,  8, ..., 27, 88, 30], dtype=int64)"
      ]
     },
     "execution_count": 4,
     "metadata": {},
     "output_type": "execute_result"
    }
   ],
   "source": [
    "feature = df_f.iloc[:,1:].values\n",
    "label = df_l['Solubility...'].values\n",
    "label"
   ]
  },
  {
   "cell_type": "code",
   "execution_count": 5,
   "metadata": {},
   "outputs": [
    {
     "data": {
      "text/plain": [
       "(3148, 20)"
      ]
     },
     "execution_count": 5,
     "metadata": {},
     "output_type": "execute_result"
    }
   ],
   "source": [
    "feature.shape"
   ]
  },
  {
   "cell_type": "code",
   "execution_count": 6,
   "metadata": {},
   "outputs": [],
   "source": [
    "\n",
    "from __future__ import division\n",
    " \n",
    "import time\n",
    " \n",
    "import numpy as np\n",
    " \n",
    "from sklearn.svm import SVR\n",
    " \n",
    "from sklearn.model_selection import GridSearchCV\n",
    " \n",
    "from sklearn.model_selection import learning_curve\n",
    " \n",
    "import matplotlib.pyplot as plt\n",
    "\n",
    "from sklearn.model_selection import train_test_split\n"
   ]
  },
  {
   "cell_type": "code",
   "execution_count": 7,
   "metadata": {},
   "outputs": [],
   "source": [
    "X_train,X_test,y_train,y_test = train_test_split(feature,label,test_size=0.3)"
   ]
  },
  {
   "cell_type": "code",
   "execution_count": 8,
   "metadata": {},
   "outputs": [],
   "source": [
    "#初始化SVR\n",
    "\n",
    "svr = GridSearchCV(SVR(kernel='rbf', gamma=0.1), cv=5,\n",
    "param_grid={\"C\": [1e0, 1e1, 1e2, 1e3],\n",
    "\"gamma\": np.logspace(-2, 2, 5)})\n"
   ]
  },
  {
   "cell_type": "code",
   "execution_count": 9,
   "metadata": {},
   "outputs": [
    {
     "data": {
      "text/plain": [
       "GridSearchCV(cv=5, estimator=SVR(gamma=0.1),\n",
       "             param_grid={'C': [1.0, 10.0, 100.0, 1000.0],\n",
       "                         'gamma': array([1.e-02, 1.e-01, 1.e+00, 1.e+01, 1.e+02])})"
      ]
     },
     "execution_count": 9,
     "metadata": {},
     "output_type": "execute_result"
    }
   ],
   "source": [
    "svr.fit(X_train,y_train)"
   ]
  },
  {
   "cell_type": "code",
   "execution_count": 10,
   "metadata": {},
   "outputs": [],
   "source": [
    "y_pred = svr.predict(X_test)"
   ]
  },
  {
   "cell_type": "code",
   "execution_count": 11,
   "metadata": {},
   "outputs": [],
   "source": [
    "from sklearn.manifold import TSNE"
   ]
  },
  {
   "cell_type": "code",
   "execution_count": 12,
   "metadata": {},
   "outputs": [
    {
     "data": {
      "text/plain": [
       "(945, 20)"
      ]
     },
     "execution_count": 12,
     "metadata": {},
     "output_type": "execute_result"
    }
   ],
   "source": [
    "X_test.shape"
   ]
  },
  {
   "cell_type": "code",
   "execution_count": 13,
   "metadata": {},
   "outputs": [
    {
     "name": "stderr",
     "output_type": "stream",
     "text": [
      "d:\\Users\\Binyun\\anaconda3\\lib\\site-packages\\sklearn\\manifold\\_t_sne.py:783: FutureWarning: The default initialization in TSNE will change from 'random' to 'pca' in 1.2.\n",
      "  FutureWarning,\n",
      "d:\\Users\\Binyun\\anaconda3\\lib\\site-packages\\sklearn\\manifold\\_t_sne.py:793: FutureWarning: The default learning rate in TSNE will change from 200.0 to 'auto' in 1.2.\n",
      "  FutureWarning,\n"
     ]
    },
    {
     "data": {
      "text/plain": [
       "array([[ 18.805943 ,  -4.1871347],\n",
       "       [-11.668819 ,   1.8333858],\n",
       "       [  1.2781221,  -5.046891 ],\n",
       "       ...,\n",
       "       [-22.548721 ,   2.523084 ],\n",
       "       [  5.7293386,   0.9297507],\n",
       "       [  6.3138514,   8.377056 ]], dtype=float32)"
      ]
     },
     "execution_count": 13,
     "metadata": {},
     "output_type": "execute_result"
    }
   ],
   "source": [
    "tsne = TSNE(random_state=105)\n",
    "tsne.fit_transform(X_test)  # 进行数据降维"
   ]
  },
  {
   "cell_type": "code",
   "execution_count": 14,
   "metadata": {},
   "outputs": [],
   "source": [
    "lowDWeights = tsne.embedding_"
   ]
  },
  {
   "cell_type": "code",
   "execution_count": 15,
   "metadata": {},
   "outputs": [],
   "source": [
    "\n",
    "from matplotlib import cm\n",
    "def plot_with_labels(lowDWeights, label,pred):\n",
    "    plt.cla()\n",
    "    # 降到二维了，分别给x和y\n",
    "    X, Y = lowDWeights[:, 0], lowDWeights[:, 1]\n",
    "    z1 = label\n",
    "    z2 = pred\n",
    "    ax = plt.figure().add_subplot(projection='3d')\n",
    "    ax.scatter(X, Y, z1)\n",
    "    ax.legend()\n",
    "    ax.set_xlim(min(X), max(X))\n",
    "    ax.set_ylim(min(Y), max(Y))\n",
    "    ax.set_zlim(min(z1), max(z1))\n",
    "    ax.set_xlabel('X')\n",
    "    ax.set_ylabel('Y')\n",
    "    ax.set_zlabel('Z')\n",
    "    plt.show()\n"
   ]
  },
  {
   "cell_type": "code",
   "execution_count": 16,
   "metadata": {},
   "outputs": [
    {
     "name": "stderr",
     "output_type": "stream",
     "text": [
      "No handles with labels found to put in legend.\n"
     ]
    },
    {
     "data": {
      "image/png": "[encoded data removed]",
      "text/plain": [
       "<Figure size 432x288 with 1 Axes>"
      ]
     },
     "metadata": {
      "needs_background": "light"
     },
     "output_type": "display_data"
    },
    {
     "data": {
      "image/png": "[encoded data removed]",
      "text/plain": [
       "<Figure size 432x288 with 1 Axes>"
      ]
     },
     "metadata": {
      "needs_background": "light"
     },
     "output_type": "display_data"
    }
   ],
   "source": [
    "plot_with_labels(lowDWeights,y_test,y_pred)"
   ]
  },
  {
   "cell_type": "code",
   "execution_count": 17,
   "metadata": {},
   "outputs": [
    {
     "name": "stdout",
     "output_type": "stream",
     "text": [
      "0.39775826810936576\n"
     ]
    }
   ],
   "source": [
    "from sklearn.metrics import r2_score\n",
    "print(r2_score(y_test,y_pred))\n"
   ]
  },
  {
   "cell_type": "code",
   "execution_count": 18,
   "metadata": {},
   "outputs": [
    {
     "name": "stdout",
     "output_type": "stream",
     "text": [
      "672.6412502814809\n"
     ]
    }
   ],
   "source": [
    "from sklearn.metrics import mean_squared_error\n",
    "print(mean_squared_error(y_test,y_pred))"
   ]
  },
  {
   "cell_type": "code",
   "execution_count": 19,
   "metadata": {},
   "outputs": [
    {
     "name": "stdout",
     "output_type": "stream",
     "text": [
      "25.93532822775684\n"
     ]
    }
   ],
   "source": [
    "import numpy as np\n",
    "from sklearn.metrics import mean_squared_error\n",
    "print(np.sqrt(mean_squared_error(y_test,y_pred)))\n"
   ]
  },
  {
   "cell_type": "code",
   "execution_count": 20,
   "metadata": {},
   "outputs": [
    {
     "name": "stdout",
     "output_type": "stream",
     "text": [
      "20.751056825374175\n"
     ]
    }
   ],
   "source": [
    "from sklearn.metrics import mean_absolute_error\n",
    "print(mean_absolute_error(y_test,y_pred))\n"
   ]
  },
  {
   "cell_type": "code",
   "execution_count": 21,
   "metadata": {},
   "outputs": [],
   "source": [
    "def regression_evaluation(true_value: np.ndarray, pred_value: np.ndarray) -> pd.DataFrame:\n",
    "    \"\"\"回归问题得到预测结果的指标\n",
    "    :param true_value:真实值\n",
    "    :param pred_value:预测值\n",
    "    \"\"\"\n",
    "    from scipy.stats import spearmanr\n",
    "    from scipy.stats import pearsonr\n",
    "    from sklearn.metrics import mean_squared_error\n",
    "    from sklearn.metrics import mean_absolute_error\n",
    "    from sklearn.metrics import r2_score\n",
    "    Rank_IC = spearmanr(true_value,pred_value).correlation\n",
    "    Pearson = pearsonr(true_value,pred_value)[0]\n",
    "    r2 = r2_score(true_value, pred_value)\n",
    "    mae = mean_absolute_error(true_value, pred_value)\n",
    "    rmse = np.sqrt(mean_squared_error(true_value, pred_value))\n",
    "    mse = mean_squared_error(true_value, pred_value)\n",
    "    smape = 100 / len(true_value) * np.sum(\n",
    "        2 * np.abs(pred_value - true_value) / (np.abs(true_value) + np.abs(pred_value)))\n",
    "    # MAPE指标\n",
    "    # from sklearn.metrics import mean_absolute_percentage_error\n",
    "    # mape = mean_absolute_percentage_error(true_value, pred_value)\n",
    "\n",
    "    dataframe = pd.DataFrame([Rank_IC,Pearson,r2, mae, rmse, mse, smape]).T\n",
    "    dataframe.columns = [\"Rank_IC\",\"Pearson\",'r2', 'MAE', 'RMSE', 'MSE', \"SMAPE\"]\n",
    "    return dataframe\n"
   ]
  },
  {
   "cell_type": "code",
   "execution_count": 27,
   "metadata": {},
   "outputs": [
    {
     "data": {
      "text/html": [
       "<div>\n",
       "<style scoped>\n",
       "    .dataframe tbody tr th:only-of-type {\n",
       "        vertical-align: middle;\n",
       "    }\n",
       "\n",
       "    .dataframe tbody tr th {\n",
       "        vertical-align: top;\n",
       "    }\n",
       "\n",
       "    .dataframe thead th {\n",
       "        text-align: right;\n",
       "    }\n",
       "</style>\n",
       "<table border=\"1\" class=\"dataframe\">\n",
       "  <thead>\n",
       "    <tr style=\"text-align: right;\">\n",
       "      <th></th>\n",
       "      <th>Rank_IC</th>\n",
       "      <th>Pearson</th>\n",
       "      <th>r2</th>\n",
       "      <th>MAE</th>\n",
       "      <th>RMSE</th>\n",
       "      <th>MSE</th>\n",
       "      <th>SMAPE</th>\n",
       "    </tr>\n",
       "  </thead>\n",
       "  <tbody>\n",
       "    <tr>\n",
       "      <th>0</th>\n",
       "      <td>0.632069</td>\n",
       "      <td>0.636097</td>\n",
       "      <td>0.397758</td>\n",
       "      <td>20.751057</td>\n",
       "      <td>25.935328</td>\n",
       "      <td>672.64125</td>\n",
       "      <td>53.526969</td>\n",
       "    </tr>\n",
       "  </tbody>\n",
       "</table>\n",
       "</div>"
      ],
      "text/plain": [
       "    Rank_IC   Pearson        r2        MAE       RMSE        MSE      SMAPE\n",
       "0  0.632069  0.636097  0.397758  20.751057  25.935328  672.64125  53.526969"
      ]
     },
     "execution_count": 27,
     "metadata": {},
     "output_type": "execute_result"
    }
   ],
   "source": [
    "regression_evaluation(y_test,y_pred)"
   ]
  },
  {
   "cell_type": "code",
   "execution_count": 23,
   "metadata": {},
   "outputs": [
    {
     "data": {
      "text/plain": [
       "(0.6947101466431657, 2.7167514e-317)"
      ]
     },
     "execution_count": 23,
     "metadata": {},
     "output_type": "execute_result"
    }
   ],
   "source": [
    "from scipy.stats import pearsonr\n",
    "pearsonr(y_train,train_pred)"
   ]
  },
  {
   "cell_type": "code",
   "execution_count": 24,
   "metadata": {},
   "outputs": [
    {
     "data": {
      "text/plain": [
       "(0.9954180744075039, 0.00458192559249615)"
      ]
     },
     "execution_count": 24,
     "metadata": {},
     "output_type": "execute_result"
    }
   ],
   "source": [
    "pearsonr([1,2,3,4],[0.9,1.8,2.7,4])"
   ]
  },
  {
   "cell_type": "code",
   "execution_count": 25,
   "metadata": {},
   "outputs": [],
   "source": [
    "import pickle\n",
    "with open('./model/svr_soubility.pkl', 'wb') as f:\n",
    "    pickle.dump(svr, f)\n"
   ]
  },
  {
   "cell_type": "code",
   "execution_count": 26,
   "metadata": {},
   "outputs": [],
   "source": [
    "import pickle\n",
    "with open('./model/svr_soubility.pkl', 'rb') as f:\n",
    "    svr = pickle.load(f)\n"
   ]
  }
 ],
 "metadata": {
  "kernelspec": {
   "display_name": "Python 3.7.6 ('base')",
   "language": "python",
   "name": "python3"
  },
  "language_info": {
   "codemirror_mode": {
    "name": "ipython",
    "version": 3
   },
   "file_extension": ".py",
   "mimetype": "text/x-python",
   "name": "python",
   "nbconvert_exporter": "python",
   "pygments_lexer": "ipython3",
   "version": "3.7.6"
  },
  "orig_nbformat": 4,
  "vscode": {
   "interpreter": {
    "hash": "882796b02b377d82476753a15ff481222c80e12176ac8d65ffc2f1884c5c52cf"
   }
  }
 },
 "nbformat": 4,
 "nbformat_minor": 2
}
